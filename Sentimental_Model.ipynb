{
  "nbformat": 4,
  "nbformat_minor": 0,
  "metadata": {
    "colab": {
      "provenance": [],
      "gpuType": "T4",
      "authorship_tag": "ABX9TyOvkTzwQ5puVp7j7TdUToLh",
      "include_colab_link": true
    },
    "kernelspec": {
      "name": "python3",
      "display_name": "Python 3"
    },
    "language_info": {
      "name": "python"
    },
    "accelerator": "GPU"
  },
  "cells": [
    {
      "cell_type": "markdown",
      "metadata": {
        "id": "view-in-github",
        "colab_type": "text"
      },
      "source": [
        "<a href=\"https://colab.research.google.com/github/mithileshm24iitk/Sentimental_Model/blob/main/Sentimental_Model.ipynb\" target=\"_parent\"><img src=\"https://colab.research.google.com/assets/colab-badge.svg\" alt=\"Open In Colab\"/></a>"
      ]
    },
    {
      "cell_type": "code",
      "execution_count": 3,
      "metadata": {
        "id": "PokWzY5aATG6"
      },
      "outputs": [],
      "source": [
        "!tar -xzf aclImdb_v1.tar.gz"
      ]
    },
    {
      "cell_type": "code",
      "source": [
        "import os\n",
        "import pandas as pd\n",
        "\n",
        "# This function will walk through the data folders and load the reviews\n",
        "def load_reviews(data_dir):\n",
        "    reviews = []\n",
        "    labels = []\n",
        "\n",
        "    # Loop through 'train' and 'test' folders\n",
        "    for split in ['train', 'test']:\n",
        "        split_path = os.path.join(data_dir, split)\n",
        "\n",
        "        # Loop through 'pos' and 'neg' folders\n",
        "        for sentiment in ['pos', 'neg']:\n",
        "            sentiment_path = os.path.join(split_path, sentiment)\n",
        "            label = 1 if sentiment == 'pos' else 0\n",
        "\n",
        "            # Loop through all .txt files in the folder\n",
        "            for filename in os.listdir(sentiment_path):\n",
        "                if filename.endswith('.txt'):\n",
        "                    with open(os.path.join(sentiment_path, filename), 'r', encoding='utf-8') as f:\n",
        "                        reviews.append(f.read())\n",
        "                        labels.append(label)\n",
        "\n",
        "    # Create a pandas DataFrame\n",
        "    df = pd.DataFrame({'review': reviews, 'label': labels})\n",
        "    return df\n",
        "\n",
        "# --- Let's run the function ---\n",
        "data_dir = 'aclImdb'\n",
        "df = load_reviews(data_dir)\n",
        "\n",
        "# Print the shape and first 5 rows to see what we've got\n",
        "print(f\"Total reviews loaded: {df.shape[0]}\")\n",
        "print(df.head())"
      ],
      "metadata": {
        "colab": {
          "base_uri": "https://localhost:8080/"
        },
        "id": "3unXmeo8DXP2",
        "outputId": "783e1ce5-7c15-4866-fffc-d4ffd1fa8321"
      },
      "execution_count": 4,
      "outputs": [
        {
          "output_type": "stream",
          "name": "stdout",
          "text": [
            "Total reviews loaded: 50000\n",
            "                                              review  label\n",
            "0  Personally, I absolutely love this movie and n...      1\n",
            "1  The young Dr. Fanshawe(Mark Letheren), an avid...      1\n",
            "2  There are plenty of reviews on this page that ...      1\n",
            "3  Will Smith delivers yet again in a film about ...      1\n",
            "4  I came in in the middle of this film so I had ...      1\n"
          ]
        }
      ]
    },
    {
      "cell_type": "code",
      "source": [
        "import re\n",
        "import nltk\n",
        "from nltk.corpus import stopwords\n",
        "\n",
        "# Download the list of stop words from NLTK\n",
        "# This only needs to be run once\n",
        "nltk.download('stopwords')\n",
        "stop_words = set(stopwords.words('english'))\n",
        "\n",
        "def clean_text(text):\n",
        "    # 1. Remove HTML tags\n",
        "    text = re.sub(r'<[^>]+>', ' ', text)\n",
        "\n",
        "    # 2. Remove punctuation and numbers\n",
        "    text = re.sub(r'[^a-zA-Z]', ' ', text)\n",
        "\n",
        "    # 3. Convert to lowercase and split into words\n",
        "    words = text.lower().split()\n",
        "\n",
        "    # 4. Remove stop words\n",
        "    #    We keep a word if it's NOT in the stop_words list\n",
        "    clean_words = [word for word in words if word not in stop_words]\n",
        "\n",
        "    # 5. Join the words back into a single string\n",
        "    return ' '.join(clean_words)\n",
        "\n",
        "# --- Let's apply this function to our 'review' column ---\n",
        "# This might take about 30-60 seconds to run on all 50,000 reviews\n",
        "print(\"Cleaning text... This may take a minute.\")\n",
        "\n",
        "# We create a new column 'cleaned_review'\n",
        "df['cleaned_review'] = df['review'].apply(clean_text)\n",
        "\n",
        "# Print the 'head' again to compare\n",
        "print(\"Cleaning complete!\")\n",
        "print(\"\\n--- Original vs. Cleaned ---\")\n",
        "print(df[['review', 'cleaned_review']].head())"
      ],
      "metadata": {
        "colab": {
          "base_uri": "https://localhost:8080/"
        },
        "id": "CfCNZtCbECUd",
        "outputId": "fffe55e4-cd23-42e9-edfd-148177d28ead"
      },
      "execution_count": 5,
      "outputs": [
        {
          "output_type": "stream",
          "name": "stderr",
          "text": [
            "[nltk_data] Downloading package stopwords to /root/nltk_data...\n",
            "[nltk_data]   Unzipping corpora/stopwords.zip.\n"
          ]
        },
        {
          "output_type": "stream",
          "name": "stdout",
          "text": [
            "Cleaning text... This may take a minute.\n",
            "Cleaning complete!\n",
            "\n",
            "--- Original vs. Cleaned ---\n",
            "                                              review  \\\n",
            "0  Personally, I absolutely love this movie and n...   \n",
            "1  The young Dr. Fanshawe(Mark Letheren), an avid...   \n",
            "2  There are plenty of reviews on this page that ...   \n",
            "3  Will Smith delivers yet again in a film about ...   \n",
            "4  I came in in the middle of this film so I had ...   \n",
            "\n",
            "                                      cleaned_review  \n",
            "0  personally absolutely love movie novel read bo...  \n",
            "1  young dr fanshawe mark letheren avid archaeolo...  \n",
            "2  plenty reviews page explain movie details far ...  \n",
            "3  smith delivers yet film man weight world shoul...  \n",
            "4  came middle film idea credits even title till ...  \n"
          ]
        }
      ]
    },
    {
      "cell_type": "code",
      "source": [
        "from sklearn.model_selection import train_test_split\n",
        "\n",
        "# Define our features (X) and our target (y)\n",
        "# X is the data we use to predict\n",
        "X = df['cleaned_review']\n",
        "# y is what we WANT to predict\n",
        "y = df['label']\n",
        "\n",
        "# Split the data\n",
        "# test_size=0.2 means 20% of the data will be for testing\n",
        "# random_state=42 ensures we get the same \"random\" split every time we run this,\n",
        "# which makes our results reproducible.\n",
        "X_train, X_test, y_train, y_test = train_test_split(\n",
        "    X, y, test_size=0.2, random_state=42\n",
        ")\n",
        "\n",
        "# Print the sizes of our new datasets\n",
        "print(f\"Training data size: {X_train.shape[0]}\")\n",
        "print(f\"Testing data size: {X_test.shape[0]}\")"
      ],
      "metadata": {
        "colab": {
          "base_uri": "https://localhost:8080/"
        },
        "id": "-dxYKreiEfiM",
        "outputId": "4d013718-6314-437e-f71d-da6ef41522f6"
      },
      "execution_count": 6,
      "outputs": [
        {
          "output_type": "stream",
          "name": "stdout",
          "text": [
            "Training data size: 40000\n",
            "Testing data size: 10000\n"
          ]
        }
      ]
    },
    {
      "cell_type": "code",
      "source": [
        "from sklearn.feature_extraction.text import TfidfVectorizer\n",
        "\n",
        "# 1. Initialize the vectorizer\n",
        "# max_features=5000 tells it to only use the 5000 most common words.\n",
        "# This saves memory (for your 8GB Mac) and often improves results\n",
        "# by ignoring super-rare, unimportant words.\n",
        "vectorizer = TfidfVectorizer(max_features=5000)\n",
        "\n",
        "# 2. Fit and transform the training data\n",
        "# .fit_transform() learns the vocabulary from X_train and then\n",
        "# converts X_train into its TF-IDF number matrix.\n",
        "print(\"Fitting vectorizer and transforming training data...\")\n",
        "X_train_tfidf = vectorizer.fit_transform(X_train)\n",
        "\n",
        "# 3. Only transform the testing data\n",
        "# .transform() uses the *same* vocabulary learned from X_train\n",
        "# to convert X_test. This prevents \"data leakage.\"\n",
        "print(\"Transforming testing data...\")\n",
        "X_test_tfidf = vectorizer.transform(X_test)\n",
        "\n",
        "# Print the shape of our new data\n",
        "print(\"\\nShape of our new TF-IDF matrices:\")\n",
        "print(f\"X_train_tfidf: {X_train_tfidf.shape}\")\n",
        "print(f\"X_test_tfidf: {X_test_tfidf.shape}\")"
      ],
      "metadata": {
        "colab": {
          "base_uri": "https://localhost:8080/"
        },
        "id": "YuD39r1MEw7t",
        "outputId": "f3d4d917-5024-4041-e084-01cdce83facc"
      },
      "execution_count": 7,
      "outputs": [
        {
          "output_type": "stream",
          "name": "stdout",
          "text": [
            "Fitting vectorizer and transforming training data...\n",
            "Transforming testing data...\n",
            "\n",
            "Shape of our new TF-IDF matrices:\n",
            "X_train_tfidf: (40000, 5000)\n",
            "X_test_tfidf: (10000, 5000)\n"
          ]
        }
      ]
    },
    {
      "cell_type": "code",
      "source": [
        "from sklearn.linear_model import LogisticRegression\n",
        "\n",
        "# 1. Initialize the model\n",
        "# We set max_iter=1000 to give it enough time to find the best solution\n",
        "model = LogisticRegression(max_iter=1000)\n",
        "\n",
        "# 2. Train the model!\n",
        "# .fit() is the \"training\" command.\n",
        "# It looks at X_train_tfidf and y_train and learns the patterns.\n",
        "print(\"Training the model...\")\n",
        "model.fit(X_train_tfidf, y_train)\n",
        "\n",
        "print(\"Model training complete!\")"
      ],
      "metadata": {
        "colab": {
          "base_uri": "https://localhost:8080/"
        },
        "id": "7CqH7GaLFFSD",
        "outputId": "4fd082fd-a544-4849-b5d5-413f4fd08965"
      },
      "execution_count": 8,
      "outputs": [
        {
          "output_type": "stream",
          "name": "stdout",
          "text": [
            "Training the model...\n",
            "Model training complete!\n"
          ]
        }
      ]
    },
    {
      "cell_type": "code",
      "source": [
        "from sklearn.metrics import accuracy_score, classification_report\n",
        "\n",
        "# 1. Make predictions on the test data\n",
        "print(\"Making predictions on the test set...\")\n",
        "y_pred = model.predict(X_test_tfidf)\n",
        "\n",
        "# 2. Calculate the accuracy\n",
        "# This compares the model's guesses (y_pred) to the true answers (y_test)\n",
        "accuracy = accuracy_score(y_test, y_pred)\n",
        "print(f\"\\nAccuracy: {accuracy * 100:.2f}%\")\n",
        "\n",
        "# 3. Print a detailed report\n",
        "# This shows precision, recall, and f1-score for both classes (0 and 1)\n",
        "print(\"\\nClassification Report:\")\n",
        "print(classification_report(y_test, y_pred, target_names=['Negative (0)', 'Positive (1)']))"
      ],
      "metadata": {
        "colab": {
          "base_uri": "https://localhost:8080/"
        },
        "id": "Ktn1hsBFFTgr",
        "outputId": "0ea8afb6-4e56-45d3-fadc-a6eea6466c5c"
      },
      "execution_count": 9,
      "outputs": [
        {
          "output_type": "stream",
          "name": "stdout",
          "text": [
            "Making predictions on the test set...\n",
            "\n",
            "Accuracy: 89.00%\n",
            "\n",
            "Classification Report:\n",
            "              precision    recall  f1-score   support\n",
            "\n",
            "Negative (0)       0.90      0.88      0.89      4945\n",
            "Positive (1)       0.88      0.90      0.89      5055\n",
            "\n",
            "    accuracy                           0.89     10000\n",
            "   macro avg       0.89      0.89      0.89     10000\n",
            "weighted avg       0.89      0.89      0.89     10000\n",
            "\n"
          ]
        }
      ]
    },
    {
      "cell_type": "code",
      "source": [
        "def predict_sentiment(review_text):\n",
        "    # 1. Clean the new review\n",
        "    cleaned_review = clean_text(review_text)\n",
        "\n",
        "    # 2. Vectorize the cleaned review\n",
        "    # We need to put it in a list [cleaned_review] because\n",
        "    # the vectorizer expects a collection of texts\n",
        "    vectorized_review = vectorizer.transform([cleaned_review])\n",
        "\n",
        "    # 3. Make the prediction\n",
        "    prediction = model.predict(vectorized_review)\n",
        "\n",
        "    # 4. Get the probability (how confident the model is)\n",
        "    probability = model.predict_proba(vectorized_review)\n",
        "\n",
        "    # 5. Return the result\n",
        "    if prediction[0] == 1:\n",
        "        return f\"Prediction: Positive 👍 (Confidence: {probability[0][1]*100:.1f}%)\"\n",
        "    else:\n",
        "        return f\"Prediction: Negative 👎 (Confidence: {probability[0][0]*100:.1f}%)\""
      ],
      "metadata": {
        "id": "Qdj3OMPlFrnp"
      },
      "execution_count": 10,
      "outputs": []
    },
    {
      "cell_type": "code",
      "source": [
        "# --- TEST IT HERE! ---\n",
        "\n",
        "my_review = \"This was a fantastic movie, I really loved the acting!\"\n",
        "print(predict_sentiment(my_review))\n",
        "\n",
        "my_review_2 = \"It was a total waste of time, the plot was boring and predictable.\"\n",
        "print(predict_sentiment(my_review_2))"
      ],
      "metadata": {
        "colab": {
          "base_uri": "https://localhost:8080/"
        },
        "id": "tAafSSF3Fugx",
        "outputId": "1d12f6da-dc2b-4931-c747-181959d81fe1"
      },
      "execution_count": 11,
      "outputs": [
        {
          "output_type": "stream",
          "name": "stdout",
          "text": [
            "Prediction: Positive 👍 (Confidence: 98.1%)\n",
            "Prediction: Negative 👎 (Confidence: 100.0%)\n"
          ]
        }
      ]
    },
    {
      "cell_type": "markdown",
      "source": [
        "# Advanced Neural Network\n"
      ],
      "metadata": {
        "id": "Ff1FX2gBGd18"
      }
    },
    {
      "cell_type": "code",
      "source": [
        "# Install tensorflow\n",
        "!pip install -q tensorflow"
      ],
      "metadata": {
        "id": "RjPfUkWNGrNs"
      },
      "execution_count": 12,
      "outputs": []
    },
    {
      "cell_type": "code",
      "source": [
        "from tensorflow.keras.preprocessing.text import Tokenizer\n",
        "from tensorflow.keras.preprocessing.sequence import pad_sequences\n",
        "\n",
        "# 1. Set up our parameters\n",
        "vocab_size = 10000  # We'll use the top 10,000 most common words\n",
        "max_length = 250    # We'll cut off/pad all reviews to be 250 words long\n",
        "\n",
        "# 2. Initialize and fit the tokenizer\n",
        "# oov_token=\"<OOV>\" adds a special token for \"Out of Vocabulary\"\n",
        "# for any words not in our top 10,000\n",
        "tokenizer = Tokenizer(num_words=vocab_size, oov_token=\"<OOV>\")\n",
        "\n",
        "# Fit the tokenizer ONLY on the training data\n",
        "# This builds the vocabulary\n",
        "print(\"Fitting tokenizer on training data...\")\n",
        "tokenizer.fit_on_texts(X_train)\n",
        "\n",
        "# 3. Convert text to sequences of numbers\n",
        "print(\"Converting text to sequences...\")\n",
        "X_train_seq = tokenizer.texts_to_sequences(X_train)\n",
        "X_test_seq = tokenizer.texts_to_sequences(X_test)\n",
        "\n",
        "# 4. Pad the sequences\n",
        "# 'post' means add the padding (zeros) at the end of the sentence\n",
        "print(\"Padding sequences...\")\n",
        "X_train_pad = pad_sequences(X_train_seq, maxlen=max_length, padding='post')\n",
        "X_test_pad = pad_sequences(X_test_seq, maxlen=max_length, padding='post')\n",
        "\n",
        "# Let's check the new shape\n",
        "print(\"\\nShape of our new padded data:\")\n",
        "print(f\"X_train_pad: {X_train_pad.shape}\")\n",
        "print(f\"X_test_pad: {X_test_pad.shape}\")\n",
        "\n",
        "# Let's see what a review looks like now\n",
        "print(\"\\nOriginal review (from X_train):\")\n",
        "print(X_train.iloc[0])\n",
        "print(\"\\nSame review as a padded sequence (from X_train_pad):\")\n",
        "print(X_train_pad[0])"
      ],
      "metadata": {
        "colab": {
          "base_uri": "https://localhost:8080/"
        },
        "id": "tZLae4tmGyH1",
        "outputId": "a92ff7cf-5557-4073-f8ec-07e8147b5b23"
      },
      "execution_count": 13,
      "outputs": [
        {
          "output_type": "stream",
          "name": "stdout",
          "text": [
            "Fitting tokenizer on training data...\n",
            "Converting text to sequences...\n",
            "Padding sequences...\n",
            "\n",
            "Shape of our new padded data:\n",
            "X_train_pad: (40000, 250)\n",
            "X_test_pad: (10000, 250)\n",
            "\n",
            "Original review (from X_train):\n",
            "ernest saves christmas comedian ernest christmas special film film ernest find successor santa claus order christmas continue along way meets young girl thief ends stealing something important santa tell watch film like ernest films lot slapstick humor involved film probably one ernest best films funny important lessons learn regarding friendship family afraid show love best christmas film around good one get christmas spirit little bit sad film little dated\n",
            "\n",
            "Same review as a padded sequence (from X_train_pad):\n",
            "[4712 3046  984 2630 4712  984  190    3    3 4712   70    1 2449 6885\n",
            "  502  984 1541  222   23  746   85  134 2822  524 2670   51  526 2449\n",
            "  259   28    3    5 4712   30   72 2291  330  429    3  131    4 4712\n",
            "   40   30   58  526 2750  739 2482 1607  120 1473   39   35   40  984\n",
            "    3   83    6    4   15  984  985   41  117  482    3   41 1957    0\n",
            "    0    0    0    0    0    0    0    0    0    0    0    0    0    0\n",
            "    0    0    0    0    0    0    0    0    0    0    0    0    0    0\n",
            "    0    0    0    0    0    0    0    0    0    0    0    0    0    0\n",
            "    0    0    0    0    0    0    0    0    0    0    0    0    0    0\n",
            "    0    0    0    0    0    0    0    0    0    0    0    0    0    0\n",
            "    0    0    0    0    0    0    0    0    0    0    0    0    0    0\n",
            "    0    0    0    0    0    0    0    0    0    0    0    0    0    0\n",
            "    0    0    0    0    0    0    0    0    0    0    0    0    0    0\n",
            "    0    0    0    0    0    0    0    0    0    0    0    0    0    0\n",
            "    0    0    0    0    0    0    0    0    0    0    0    0    0    0\n",
            "    0    0    0    0    0    0    0    0    0    0    0    0    0    0\n",
            "    0    0    0    0    0    0    0    0    0    0    0    0    0    0\n",
            "    0    0    0    0    0    0    0    0    0    0    0    0]\n"
          ]
        }
      ]
    },
    {
      "cell_type": "code",
      "source": [
        "import tensorflow as tf\n",
        "\n",
        "# Define the model\n",
        "model_nn = tf.keras.Sequential([\n",
        "    # 1. The Embedding Layer\n",
        "    # It takes our 10,000-word vocabulary and turns each word into a 128-dimension vector\n",
        "    # input_length=250 tells it to expect sequences of 250 numbers\n",
        "    tf.keras.layers.Embedding(input_dim=vocab_size, output_dim=128, input_length=max_length),\n",
        "\n",
        "    # 2. The LSTM Layer\n",
        "    # 64 is the number of \"memory units.\" It's a good starting point.\n",
        "    tf.keras.layers.LSTM(64),\n",
        "\n",
        "    # 3. A standard \"hidden\" layer\n",
        "    # 'relu' is a standard activation function\n",
        "    tf.keras.layers.Dense(64, activation='relu'),\n",
        "\n",
        "    # 4. The Output Layer\n",
        "    # 'sigmoid' activation squashes the output to be a number between 0 (Negative) and 1 (Positive)\n",
        "    tf.keras.layers.Dense(1, activation='sigmoid')\n",
        "])\n",
        "\n",
        "# 5. Compile the model\n",
        "# This step configures the model for training\n",
        "model_nn.compile(\n",
        "    loss='binary_crossentropy',  # The best \"loss function\" for a binary (0/1) problem\n",
        "    optimizer='adam',            # A popular and effective optimizer\n",
        "    metrics=['accuracy']         # We want to track the accuracy as it trains\n",
        ")\n",
        "\n",
        "# 6. Print a summary of the model we just built\n",
        "model_nn.summary()"
      ],
      "metadata": {
        "colab": {
          "base_uri": "https://localhost:8080/",
          "height": 320
        },
        "id": "v0X8dWjpHLuF",
        "outputId": "b3dd2f47-1944-4ddb-8cd5-2957fe89a139"
      },
      "execution_count": 14,
      "outputs": [
        {
          "output_type": "stream",
          "name": "stderr",
          "text": [
            "/usr/local/lib/python3.12/dist-packages/keras/src/layers/core/embedding.py:97: UserWarning: Argument `input_length` is deprecated. Just remove it.\n",
            "  warnings.warn(\n"
          ]
        },
        {
          "output_type": "display_data",
          "data": {
            "text/plain": [
              "\u001b[1mModel: \"sequential\"\u001b[0m\n"
            ],
            "text/html": [
              "<pre style=\"white-space:pre;overflow-x:auto;line-height:normal;font-family:Menlo,'DejaVu Sans Mono',consolas,'Courier New',monospace\"><span style=\"font-weight: bold\">Model: \"sequential\"</span>\n",
              "</pre>\n"
            ]
          },
          "metadata": {}
        },
        {
          "output_type": "display_data",
          "data": {
            "text/plain": [
              "┏━━━━━━━━━━━━━━━━━━━━━━━━━━━━━━━━━┳━━━━━━━━━━━━━━━━━━━━━━━━┳━━━━━━━━━━━━━━━┓\n",
              "┃\u001b[1m \u001b[0m\u001b[1mLayer (type)                   \u001b[0m\u001b[1m \u001b[0m┃\u001b[1m \u001b[0m\u001b[1mOutput Shape          \u001b[0m\u001b[1m \u001b[0m┃\u001b[1m \u001b[0m\u001b[1m      Param #\u001b[0m\u001b[1m \u001b[0m┃\n",
              "┡━━━━━━━━━━━━━━━━━━━━━━━━━━━━━━━━━╇━━━━━━━━━━━━━━━━━━━━━━━━╇━━━━━━━━━━━━━━━┩\n",
              "│ embedding (\u001b[38;5;33mEmbedding\u001b[0m)           │ ?                      │   \u001b[38;5;34m0\u001b[0m (unbuilt) │\n",
              "├─────────────────────────────────┼────────────────────────┼───────────────┤\n",
              "│ lstm (\u001b[38;5;33mLSTM\u001b[0m)                     │ ?                      │   \u001b[38;5;34m0\u001b[0m (unbuilt) │\n",
              "├─────────────────────────────────┼────────────────────────┼───────────────┤\n",
              "│ dense (\u001b[38;5;33mDense\u001b[0m)                   │ ?                      │   \u001b[38;5;34m0\u001b[0m (unbuilt) │\n",
              "├─────────────────────────────────┼────────────────────────┼───────────────┤\n",
              "│ dense_1 (\u001b[38;5;33mDense\u001b[0m)                 │ ?                      │   \u001b[38;5;34m0\u001b[0m (unbuilt) │\n",
              "└─────────────────────────────────┴────────────────────────┴───────────────┘\n"
            ],
            "text/html": [
              "<pre style=\"white-space:pre;overflow-x:auto;line-height:normal;font-family:Menlo,'DejaVu Sans Mono',consolas,'Courier New',monospace\">┏━━━━━━━━━━━━━━━━━━━━━━━━━━━━━━━━━┳━━━━━━━━━━━━━━━━━━━━━━━━┳━━━━━━━━━━━━━━━┓\n",
              "┃<span style=\"font-weight: bold\"> Layer (type)                    </span>┃<span style=\"font-weight: bold\"> Output Shape           </span>┃<span style=\"font-weight: bold\">       Param # </span>┃\n",
              "┡━━━━━━━━━━━━━━━━━━━━━━━━━━━━━━━━━╇━━━━━━━━━━━━━━━━━━━━━━━━╇━━━━━━━━━━━━━━━┩\n",
              "│ embedding (<span style=\"color: #0087ff; text-decoration-color: #0087ff\">Embedding</span>)           │ ?                      │   <span style=\"color: #00af00; text-decoration-color: #00af00\">0</span> (unbuilt) │\n",
              "├─────────────────────────────────┼────────────────────────┼───────────────┤\n",
              "│ lstm (<span style=\"color: #0087ff; text-decoration-color: #0087ff\">LSTM</span>)                     │ ?                      │   <span style=\"color: #00af00; text-decoration-color: #00af00\">0</span> (unbuilt) │\n",
              "├─────────────────────────────────┼────────────────────────┼───────────────┤\n",
              "│ dense (<span style=\"color: #0087ff; text-decoration-color: #0087ff\">Dense</span>)                   │ ?                      │   <span style=\"color: #00af00; text-decoration-color: #00af00\">0</span> (unbuilt) │\n",
              "├─────────────────────────────────┼────────────────────────┼───────────────┤\n",
              "│ dense_1 (<span style=\"color: #0087ff; text-decoration-color: #0087ff\">Dense</span>)                 │ ?                      │   <span style=\"color: #00af00; text-decoration-color: #00af00\">0</span> (unbuilt) │\n",
              "└─────────────────────────────────┴────────────────────────┴───────────────┘\n",
              "</pre>\n"
            ]
          },
          "metadata": {}
        },
        {
          "output_type": "display_data",
          "data": {
            "text/plain": [
              "\u001b[1m Total params: \u001b[0m\u001b[38;5;34m0\u001b[0m (0.00 B)\n"
            ],
            "text/html": [
              "<pre style=\"white-space:pre;overflow-x:auto;line-height:normal;font-family:Menlo,'DejaVu Sans Mono',consolas,'Courier New',monospace\"><span style=\"font-weight: bold\"> Total params: </span><span style=\"color: #00af00; text-decoration-color: #00af00\">0</span> (0.00 B)\n",
              "</pre>\n"
            ]
          },
          "metadata": {}
        },
        {
          "output_type": "display_data",
          "data": {
            "text/plain": [
              "\u001b[1m Trainable params: \u001b[0m\u001b[38;5;34m0\u001b[0m (0.00 B)\n"
            ],
            "text/html": [
              "<pre style=\"white-space:pre;overflow-x:auto;line-height:normal;font-family:Menlo,'DejaVu Sans Mono',consolas,'Courier New',monospace\"><span style=\"font-weight: bold\"> Trainable params: </span><span style=\"color: #00af00; text-decoration-color: #00af00\">0</span> (0.00 B)\n",
              "</pre>\n"
            ]
          },
          "metadata": {}
        },
        {
          "output_type": "display_data",
          "data": {
            "text/plain": [
              "\u001b[1m Non-trainable params: \u001b[0m\u001b[38;5;34m0\u001b[0m (0.00 B)\n"
            ],
            "text/html": [
              "<pre style=\"white-space:pre;overflow-x:auto;line-height:normal;font-family:Menlo,'DejaVu Sans Mono',consolas,'Courier New',monospace\"><span style=\"font-weight: bold\"> Non-trainable params: </span><span style=\"color: #00af00; text-decoration-color: #00af00\">0</span> (0.00 B)\n",
              "</pre>\n"
            ]
          },
          "metadata": {}
        }
      ]
    },
    {
      "cell_type": "code",
      "source": [
        "# We need to make sure y_train and y_test are in the right format\n",
        "# The .values part converts them from a pandas Series to a numpy array,\n",
        "# which TensorFlow prefers.\n",
        "y_train_np = y_train.values\n",
        "y_test_np = y_test.values\n",
        "\n",
        "print(\"Starting model training... This will take a few minutes.\")\n",
        "\n",
        "# --- Train the model ---\n",
        "history = model_nn.fit(\n",
        "    X_train_pad,          # The 40,000 padded training reviews\n",
        "    y_train_np,           # The 40,000 training labels\n",
        "    epochs=5,             # We'll do 5 full passes over the data\n",
        "    batch_size=64,        # Process the data in batches of 64 reviews at a time\n",
        "    validation_split=0.1  # Use 10% of the training data (4,000 reviews) for validation\n",
        ")\n",
        "\n",
        "print(\"\\nModel training complete!\")"
      ],
      "metadata": {
        "colab": {
          "base_uri": "https://localhost:8080/"
        },
        "id": "DbhtQ7BvI2bJ",
        "outputId": "33dd27d6-556c-40bf-ad28-7bf04724a31c"
      },
      "execution_count": 15,
      "outputs": [
        {
          "output_type": "stream",
          "name": "stdout",
          "text": [
            "Starting model training... This will take a few minutes.\n",
            "Epoch 1/5\n",
            "\u001b[1m563/563\u001b[0m \u001b[32m━━━━━━━━━━━━━━━━━━━━\u001b[0m\u001b[37m\u001b[0m \u001b[1m12s\u001b[0m 14ms/step - accuracy: 0.5080 - loss: 0.6921 - val_accuracy: 0.5215 - val_loss: 0.6791\n",
            "Epoch 2/5\n",
            "\u001b[1m563/563\u001b[0m \u001b[32m━━━━━━━━━━━━━━━━━━━━\u001b[0m\u001b[37m\u001b[0m \u001b[1m7s\u001b[0m 13ms/step - accuracy: 0.5315 - loss: 0.6660 - val_accuracy: 0.5220 - val_loss: 0.6797\n",
            "Epoch 3/5\n",
            "\u001b[1m563/563\u001b[0m \u001b[32m━━━━━━━━━━━━━━━━━━━━\u001b[0m\u001b[37m\u001b[0m \u001b[1m9s\u001b[0m 15ms/step - accuracy: 0.5608 - loss: 0.6278 - val_accuracy: 0.8602 - val_loss: 0.3488\n",
            "Epoch 4/5\n",
            "\u001b[1m563/563\u001b[0m \u001b[32m━━━━━━━━━━━━━━━━━━━━\u001b[0m\u001b[37m\u001b[0m \u001b[1m8s\u001b[0m 13ms/step - accuracy: 0.8938 - loss: 0.2703 - val_accuracy: 0.8780 - val_loss: 0.3120\n",
            "Epoch 5/5\n",
            "\u001b[1m563/563\u001b[0m \u001b[32m━━━━━━━━━━━━━━━━━━━━\u001b[0m\u001b[37m\u001b[0m \u001b[1m7s\u001b[0m 13ms/step - accuracy: 0.9419 - loss: 0.1661 - val_accuracy: 0.8783 - val_loss: 0.3262\n",
            "\n",
            "Model training complete!\n"
          ]
        }
      ]
    },
    {
      "cell_type": "code",
      "source": [
        "print(\"Evaluating the model on the test set...\")\n",
        "\n",
        "# The model.evaluate() function returns the loss and the metrics (e.g., accuracy)\n",
        "# We ask for verbose=2 to get a clean, single-line output\n",
        "loss, accuracy = model_nn.evaluate(X_test_pad, y_test_np, verbose=2)\n",
        "\n",
        "print(f\"\\nTest Accuracy: {accuracy * 100:.2f}%\")"
      ],
      "metadata": {
        "colab": {
          "base_uri": "https://localhost:8080/"
        },
        "id": "7gQ4W5_GLKHH",
        "outputId": "63a9f9bd-c386-4a35-e4a0-cd06eb991ffe"
      },
      "execution_count": 16,
      "outputs": [
        {
          "output_type": "stream",
          "name": "stdout",
          "text": [
            "Evaluating the model on the test set...\n",
            "313/313 - 2s - 7ms/step - accuracy: 0.8727 - loss: 0.3189\n",
            "\n",
            "Test Accuracy: 87.27%\n"
          ]
        }
      ]
    },
    {
      "cell_type": "code",
      "source": [
        "import matplotlib.pyplot as plt\n",
        "\n",
        "def plot_history(history_data):\n",
        "    # Plot training & validation accuracy\n",
        "    plt.figure(figsize=(12, 5))\n",
        "\n",
        "    plt.subplot(1, 2, 1)\n",
        "    plt.plot(history_data.history['accuracy'], label='Training Accuracy')\n",
        "    plt.plot(history_data.history['val_accuracy'], label='Validation Accuracy')\n",
        "    plt.title('Training and Validation Accuracy')\n",
        "    plt.xlabel('Epoch')\n",
        "    plt.ylabel('Accuracy')\n",
        "    plt.legend()\n",
        "\n",
        "    # Plot training & validation loss\n",
        "    plt.subplot(1, 2, 2)\n",
        "    plt.plot(history_data.history['loss'], label='Training Loss')\n",
        "    plt.plot(history_data.history['val_loss'], label='Validation Loss')\n",
        "    plt.title('Training and Validation Loss')\n",
        "    plt.xlabel('Epoch')\n",
        "    plt.ylabel('Loss')\n",
        "    plt.legend()\n",
        "\n",
        "    plt.tight_layout()\n",
        "    plt.show()\n",
        "\n",
        "# --- Plot our model's history ---\n",
        "plot_history(history)"
      ],
      "metadata": {
        "colab": {
          "base_uri": "https://localhost:8080/",
          "height": 484
        },
        "id": "cMRWGYiVMR6J",
        "outputId": "81e37a31-f88b-4f68-96a9-7b411e8cc053"
      },
      "execution_count": 17,
      "outputs": [
        {
          "output_type": "display_data",
          "data": {
            "text/plain": [
              "<Figure size 1200x500 with 2 Axes>"
            ],
            "image/png": "[encoded data removed]"
          },
          "metadata": {}
        }
      ]
    }
  ]
}